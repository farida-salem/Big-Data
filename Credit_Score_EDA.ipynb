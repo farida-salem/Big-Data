{
 "cells": [
  {
   "cell_type": "markdown",
   "id": "6435d61c",
   "metadata": {},
   "source": [
    "# Credit Score Classification – Exploratory Data Analysis (EDA)"
   ]
  },
  {
   "cell_type": "code",
   "execution_count": null,
   "id": "cc4193ce",
   "metadata": {},
   "outputs": [],
   "source": [
    "\n",
    "import findspark\n",
    "findspark.init()\n",
    "\n",
    "from pyspark.sql import SparkSession\n",
    "\n",
    "import pandas as pd\n",
    "import numpy as np\n",
    "import matplotlib.pyplot as plt\n",
    "import seaborn as sns\n",
    "\n",
    "# Set styles\n",
    "sns.set(style=\"whitegrid\")\n",
    "plt.rcParams['figure.figsize'] = (10, 6)\n"
   ]
  },
  {
   "cell_type": "code",
   "execution_count": null,
   "id": "38a03db0",
   "metadata": {},
   "outputs": [],
   "source": [
    "# Initialize Spark session\n",
    "spark = SparkSession.builder \\\n",
    "    .appName(\"Credit Score EDA\") \\\n",
    "    .getOrCreate()\n"
   ]
  },
  {
   "cell_type": "code",
   "execution_count": null,
   "id": "335fb8af",
   "metadata": {},
   "outputs": [],
   "source": [
    "# Load dataset via Spark\n",
    "df = spark.read.csv(\"./archive/train.csv\", header=True, inferSchema=True)\n",
    "\n",
    "# For EDA, convert entire Spark DataFrame to Pandas DataFrame\n",
    "df_pd = df.toPandas()\n",
    "\n",
    "# Preview first 5 rows\n",
    "df_pd.head()\n"
   ]
  },
  {
   "cell_type": "code",
   "execution_count": null,
   "id": "3a888690",
   "metadata": {},
   "outputs": [],
   "source": [
    "# Data types and non-null counts\n",
    "print(df_pd.info())\n",
    "\n",
    "# Missing values summary\n",
    "print(\"\\nMissing values per column:\")\n",
    "print(df_pd.isnull().sum())\n"
   ]
  },
  {
   "cell_type": "code",
   "execution_count": null,
   "id": "fe82f448",
   "metadata": {},
   "outputs": [],
   "source": [
    "# Identify numeric vs categorical columns\n",
    "numeric_cols = df_pd.select_dtypes(include=['int64', 'float64']).columns.tolist()\n",
    "categorical_cols = df_pd.select_dtypes(include=['object', 'category']).columns.tolist()\n",
    "\n",
    "print(\"Numeric columns:\", numeric_cols)\n",
    "print(\"Categorical columns:\", categorical_cols)\n"
   ]
  },
  {
   "cell_type": "code",
   "execution_count": null,
   "id": "82956ded",
   "metadata": {},
   "outputs": [],
   "source": [
    "# Plot distribution for each numeric feature\n",
    "for col in numeric_cols:\n",
    "    plt.figure()\n",
    "    sns.histplot(df_pd[col].dropna(), kde=True)\n",
    "    plt.title(f'Distribution of {col}')\n",
    "    plt.xlabel(col)\n",
    "    plt.ylabel('Frequency')\n",
    "    plt.show()\n"
   ]
  },
  {
   "cell_type": "code",
   "execution_count": null,
   "id": "1bc63b9f",
   "metadata": {},
   "outputs": [],
   "source": [
    "# Boxplots of numeric features grouped by credit score\n",
    "for col in numeric_cols:\n",
    "    plt.figure()\n",
    "    sns.boxplot(x='Credit_Score', y=col, data=df_pd)\n",
    "    plt.title(f'{col} by Credit Score')\n",
    "    plt.xlabel('Credit Score')\n",
    "    plt.ylabel(col)\n",
    "    plt.show()\n"
   ]
  },
  {
   "cell_type": "code",
   "execution_count": null,
   "id": "589916ef",
   "metadata": {},
   "outputs": [],
   "source": [
    "\n",
    "import plotly.express as px\n",
    "\n",
    "for col in categorical_cols:\n",
    "    # 1) Build tidy counts DataFrame\n",
    "    tidy = (\n",
    "        df_pd\n",
    "        .groupby([col, 'Credit_Score'])\n",
    "        .size()\n",
    "        .reset_index(name='count')\n",
    "    )\n",
    "    \n",
    "    # Optional: filter to top categories\n",
    "    # top = tidy.groupby(col)['count'].sum().nlargest(10).index\n",
    "    # tidy = tidy[tidy[col].isin(top)]\n",
    "\n",
    "    # 2) Plot interactive grouped bar chart\n",
    "    fig = px.bar(\n",
    "        tidy,\n",
    "        x=col,\n",
    "        y='count',\n",
    "        color='Credit_Score',\n",
    "        barmode='group',\n",
    "        title=f'{col} counts by Credit Score'\n",
    "    )\n",
    "    fig.update_layout(xaxis_tickangle=45, margin=dict(l=40, r=40, t=60, b=40))\n",
    "    fig.show()\n"
   ]
  },
  {
   "cell_type": "code",
   "execution_count": null,
   "id": "7bc016e2",
   "metadata": {},
   "outputs": [],
   "source": [
    "# Compute correlation matrix for numeric features\n",
    "corr_matrix = df_pd[numeric_cols].corr()\n",
    "\n",
    "plt.figure(figsize=(12, 10))\n",
    "sns.heatmap(corr_matrix, annot=True, fmt=\".2f\", cmap='coolwarm', square=True)\n",
    "plt.title('Correlation Matrix of Numeric Features')\n",
    "plt.show()\n"
   ]
  },
  {
   "cell_type": "code",
   "execution_count": null,
   "id": "23e2c3fe",
   "metadata": {},
   "outputs": [],
   "source": [
    "# Pairplot of a subset of numeric features vs credit score\n",
    "selected = numeric_cols[:5]  # choose first 5 for readability\n",
    "sns.pairplot(df_pd[selected + ['Credit Score']], hue='Credit Score', diag_kind='kde', corner=True)\n",
    "plt.suptitle('Pairplot of Selected Numeric Features', y=1.02)\n",
    "plt.show()\n"
   ]
  },
  {
   "cell_type": "code",
   "execution_count": null,
   "id": "2fb37cb4",
   "metadata": {},
   "outputs": [],
   "source": [
    "# Stop Spark if no further processing is needed\n",
    "# spark.stop()\n"
   ]
  }
 ],
 "metadata": {
  "kernelspec": {
   "display_name": "Python 3",
   "language": "python",
   "name": "python3"
  },
  "language_info": {
   "codemirror_mode": {
    "name": "ipython",
    "version": 3
   },
   "file_extension": ".py",
   "mimetype": "text/x-python",
   "name": "python",
   "nbconvert_exporter": "python",
   "pygments_lexer": "ipython3",
   "version": "3.11.9"
  }
 },
 "nbformat": 4,
 "nbformat_minor": 5
}
